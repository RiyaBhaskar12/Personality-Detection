{
  "nbformat": 4,
  "nbformat_minor": 0,
  "metadata": {
    "colab": {
      "provenance": [],
      "mount_file_id": "10-Onw55CmfylGNEX-ja5GTx8U5P5QgtR",
      "authorship_tag": "ABX9TyNgnxIxtItk6C4N+XwRMf9L",
      "include_colab_link": true
    },
    "kernelspec": {
      "name": "python3",
      "display_name": "Python 3"
    },
    "language_info": {
      "name": "python"
    }
  },
  "cells": [
    {
      "cell_type": "markdown",
      "metadata": {
        "id": "view-in-github",
        "colab_type": "text"
      },
      "source": [
        "<a href=\"https://colab.research.google.com/github/RiyaBhaskar12/Personality-Detection/blob/master/PersonalityDetection.ipynb\" target=\"_parent\"><img src=\"https://colab.research.google.com/assets/colab-badge.svg\" alt=\"Open In Colab\"/></a>"
      ]
    },
    {
      "cell_type": "code",
      "execution_count": 2,
      "metadata": {
        "colab": {
          "base_uri": "https://localhost:8080/"
        },
        "id": "1yeC1Dyc55Id",
        "outputId": "f6782e49-6a0c-48fd-c328-0cf45b19ae1a"
      },
      "outputs": [
        {
          "output_type": "stream",
          "name": "stderr",
          "text": [
            "[nltk_data] Downloading package stopwords to /root/nltk_data...\n",
            "[nltk_data]   Package stopwords is already up-to-date!\n",
            "[nltk_data] Downloading package wordnet to /root/nltk_data...\n",
            "[nltk_data]   Package wordnet is already up-to-date!\n"
          ]
        },
        {
          "output_type": "stream",
          "name": "stdout",
          "text": [
            "GoEmotions Dataset Preprocessing Complete.\n",
            "MBTI Dataset Preprocessing Complete.\n"
          ]
        }
      ],
      "source": [
        "# prompt: Write a program for preprocessing of goemotions dataset and mbti dataset\n",
        "\n",
        "import pandas as pd\n",
        "import re\n",
        "import nltk\n",
        "from nltk.corpus import stopwords\n",
        "from nltk.stem import WordNetLemmatizer\n",
        "\n",
        "# Download required NLTK data\n",
        "nltk.download('stopwords')\n",
        "nltk.download('wordnet')\n",
        "\n",
        "def preprocess_text(text):\n",
        "    # Lowercasing\n",
        "    text = text.lower()\n",
        "\n",
        "    # Remove special characters and numbers\n",
        "    text = re.sub(r'[^a-zA-Z\\s]', '', text)\n",
        "\n",
        "    # Remove extra whitespace\n",
        "    text = re.sub(r'\\s+', ' ', text).strip()\n",
        "\n",
        "    # Tokenization\n",
        "    tokens = text.split()\n",
        "\n",
        "    # Stop word removal\n",
        "    stop_words = set(stopwords.words('english'))\n",
        "    tokens = [token for token in tokens if token not in stop_words]\n",
        "\n",
        "    # Lemmatization\n",
        "    lemmatizer = WordNetLemmatizer()\n",
        "    tokens = [lemmatizer.lemmatize(token) for token in tokens]\n",
        "\n",
        "    # Join tokens back into a string\n",
        "    text = ' '.join(tokens)\n",
        "\n",
        "    return text\n",
        "\n",
        "def preprocess_goemotions(filepath):\n",
        "    try:\n",
        "        df = pd.read_csv('/content/go_emotions_dataset.csv')\n",
        "        df['text'] = df['text'].apply(preprocess_text)\n",
        "        return df\n",
        "    except FileNotFoundError:\n",
        "        print(f\"Error: File not found at {filepath}\")\n",
        "        return None\n",
        "\n",
        "def preprocess_mbti(filepath):\n",
        "    try:\n",
        "        df = pd.read_csv('/content/mbti_1.csv')\n",
        "        df['posts'] = df['posts'].apply(preprocess_text)\n",
        "        return df\n",
        "    except FileNotFoundError:\n",
        "        print(f\"Error: File not found at {filepath}\")\n",
        "        return None\n",
        "\n",
        "\n",
        "# Example usage:\n",
        "# Assuming your data files are named 'goemotions_data.csv' and 'mbti_data.csv'\n",
        "# and are located in your current working directory or you provide a full path.\n",
        "goemotions_processed = preprocess_goemotions('goemotions_data.csv')\n",
        "mbti_processed = preprocess_mbti('mbti_data.csv')\n",
        "\n",
        "\n",
        "if goemotions_processed is not None:\n",
        "    print(\"GoEmotions Dataset Preprocessing Complete.\")\n",
        "    # You can save the processed dataframe to a new CSV file\n",
        "    # goemotions_processed.to_csv('processed_goemotions_data.csv', index=False)\n",
        "\n",
        "if mbti_processed is not None:\n",
        "    print(\"MBTI Dataset Preprocessing Complete.\")\n",
        "    # You can save the processed dataframe to a new CSV file\n",
        "    # mbti_processed.to_csv('processed_mbti_data.csv', index=False)"
      ]
    },
    {
      "cell_type": "code",
      "source": [],
      "metadata": {
        "id": "eZmc14OfKhgU"
      },
      "execution_count": null,
      "outputs": []
    }
  ]
}